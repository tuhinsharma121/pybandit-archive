{
 "cells": [
  {
   "cell_type": "code",
   "execution_count": 1,
   "metadata": {},
   "outputs": [],
   "source": [
    "import sys\n",
    "from IPython.display import clear_output\n",
    "sys.path.append(\"../..\")\n",
    "import random\n"
   ]
  },
  {
   "cell_type": "code",
   "execution_count": 2,
   "metadata": {},
   "outputs": [],
   "source": [
    "from pybandit.epsilon_bandit import EpsilonGreedy"
   ]
  },
  {
   "cell_type": "code",
   "execution_count": 3,
   "metadata": {},
   "outputs": [],
   "source": [
    "n_arms = 2\n",
    "epsilon = 0.1\n",
    "draw_count_list = [0 for col in range(n_arms)]\n",
    "conv_rate_list = [0.0 for col in range(n_arms)]\n",
    "reward_prob_list = [0.2, 0.3]\n",
    "\n",
    "# reward_prob_list = [0.4450110074729611, 0.18922795431392359, 0.21229508968178046, 0.7461365885758608]\n",
    "# reward_prob_list = [0.3050110074729611, 0.31922795431392359, 0.44229508968178046, 0.2761365885758608]\n",
    "#reward_prob_list = [0.05, 0.055, 0.045, 0.03]\n",
    "\n",
    "\n",
    "\n"
   ]
  },
  {
   "cell_type": "code",
   "execution_count": 4,
   "metadata": {},
   "outputs": [
    {
     "data": {
      "text/plain": [
       "[0, 0]"
      ]
     },
     "execution_count": 4,
     "metadata": {},
     "output_type": "execute_result"
    }
   ],
   "source": [
    "draw_count_list"
   ]
  },
  {
   "cell_type": "code",
   "execution_count": 5,
   "metadata": {},
   "outputs": [
    {
     "data": {
      "text/plain": [
       "[0.0, 0.0]"
      ]
     },
     "execution_count": 5,
     "metadata": {},
     "output_type": "execute_result"
    }
   ],
   "source": [
    "conv_rate_list"
   ]
  },
  {
   "cell_type": "code",
   "execution_count": 12,
   "metadata": {},
   "outputs": [],
   "source": [
    "reward_prob_list = [0.4, 0.3]"
   ]
  },
  {
   "cell_type": "code",
   "execution_count": 6,
   "metadata": {},
   "outputs": [],
   "source": [
    "def draw_arm(chosen_arm, reward_prob_list):\n",
    "    rand = random.random()\n",
    "    reward_prob = reward_prob_list[chosen_arm]\n",
    "    if rand > reward_prob:\n",
    "        return 0.0\n",
    "    else:\n",
    "        return 1.0\n",
    "\n",
    "def update_draw_count_and_conv_rate(draw_count_list,conv_rate_list, chosen_arm, reward):\n",
    "    chosen_arm_draw_count = draw_count_list[chosen_arm] + 1\n",
    "    draw_count_list[chosen_arm] = chosen_arm_draw_count\n",
    "    old_conv_rate = conv_rate_list[chosen_arm]\n",
    "    new_conv_rate = ((chosen_arm_draw_count - 1) * old_conv_rate + reward) / chosen_arm_draw_count\n",
    "    conv_rate_list[chosen_arm] = new_conv_rate\n",
    "    return draw_count_list,conv_rate_list\n"
   ]
  },
  {
   "cell_type": "code",
   "execution_count": 7,
   "metadata": {},
   "outputs": [],
   "source": [
    "epsilon_greedy_exp = EpsilonGreedy(n_arms=n_arms,\n",
    "                                   epsilon=epsilon,\n",
    "                                   draw_count_list=draw_count_list,\n",
    "                                   conv_rate_list=conv_rate_list)\n"
   ]
  },
  {
   "cell_type": "code",
   "execution_count": 15,
   "metadata": {},
   "outputs": [
    {
     "name": "stdout",
     "output_type": "stream",
     "text": [
      "Iteration id :  30000\n",
      "Selection method : exploit\n",
      "For respective bandit arms :  0\n",
      "Number of times they are drawn :  [9889, 20114]\n",
      "Their conversion rates  :  [0.38527656992618065, 0.301580988366313]\n"
     ]
    }
   ],
   "source": [
    "n_iteration = 30000\n",
    "\n",
    "\n",
    "for iteration in range(20000,n_iteration+1):\n",
    "    print(\"Iteration id : \",iteration)\n",
    "\n",
    "    arm = epsilon_greedy_exp.select_arm()\n",
    "    reward = draw_arm(chosen_arm=arm,\n",
    "                      reward_prob_list=reward_prob_list)\n",
    "    draw_count_list, conv_rate_list = update_draw_count_and_conv_rate(draw_count_list=draw_count_list,\n",
    "                               conv_rate_list=conv_rate_list,\n",
    "                               chosen_arm=arm,\n",
    "                               reward=reward)\n",
    "    \n",
    "    epsilon_greedy_exp.draw_count_list = draw_count_list\n",
    "    epsilon_greedy_exp.conv_rate_list = conv_rate_list\n",
    "    \n",
    "    print(\"For respective bandit arms : \",arm)\n",
    "    print(\"Number of times they are drawn : \",epsilon_greedy_exp.draw_count_list)\n",
    "    print(\"Their conversion rates  : \",epsilon_greedy_exp.conv_rate_list)\n",
    "    import time\n",
    "#     time.sleep()\n",
    "    clear_output(wait=True)\n",
    "    "
   ]
  },
  {
   "cell_type": "code",
   "execution_count": null,
   "metadata": {},
   "outputs": [],
   "source": []
  }
 ],
 "metadata": {
  "kernelspec": {
   "display_name": "pybandit-v3",
   "language": "python",
   "name": "pybandit-v3"
  },
  "language_info": {
   "codemirror_mode": {
    "name": "ipython",
    "version": 3
   },
   "file_extension": ".py",
   "mimetype": "text/x-python",
   "name": "python",
   "nbconvert_exporter": "python",
   "pygments_lexer": "ipython3",
   "version": "3.6.8"
  }
 },
 "nbformat": 4,
 "nbformat_minor": 4
}
