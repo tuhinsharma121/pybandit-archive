{
 "cells": [
  {
   "cell_type": "code",
   "execution_count": 1,
   "metadata": {},
   "outputs": [],
   "source": [
    "import sys\n",
    "from IPython.display import clear_output\n",
    "sys.path.append(\"../..\")\n",
    "import random\n"
   ]
  },
  {
   "cell_type": "code",
   "execution_count": 2,
   "metadata": {},
   "outputs": [],
   "source": [
    "from pybandit.epsilon_bandit.epsilon_greedy import EpsilonGreedy"
   ]
  },
  {
   "cell_type": "code",
   "execution_count": 3,
   "metadata": {},
   "outputs": [],
   "source": [
    "n_arms = 3\n",
    "epsilon = 0.1\n",
    "draw_count_list = [0 for col in range(n_arms)]\n",
    "conv_rate_list = [0.0 for col in range(n_arms)]\n",
    "reward_prob_list = [0.2, 0.3,0.7]"
   ]
  },
  {
   "cell_type": "code",
   "execution_count": 4,
   "metadata": {},
   "outputs": [],
   "source": [
    "def draw_arm(chosen_arm, reward_prob_list):\n",
    "    rand = random.random()\n",
    "    reward_prob = reward_prob_list[chosen_arm]\n",
    "    if rand > reward_prob:\n",
    "        return 0.0\n",
    "    else:\n",
    "        return 1.0\n",
    "\n",
    "def update_draw_count_and_conv_rate(draw_count_list,conv_rate_list, chosen_arm, reward):\n",
    "    chosen_arm_draw_count = draw_count_list[chosen_arm] + 1\n",
    "    draw_count_list[chosen_arm] = chosen_arm_draw_count\n",
    "    old_conv_rate = conv_rate_list[chosen_arm]\n",
    "    new_conv_rate = ((chosen_arm_draw_count - 1) * old_conv_rate + reward) / chosen_arm_draw_count\n",
    "    conv_rate_list[chosen_arm] = new_conv_rate\n",
    "    return draw_count_list,conv_rate_list\n"
   ]
  },
  {
   "cell_type": "code",
   "execution_count": 5,
   "metadata": {},
   "outputs": [],
   "source": [
    "epsilon_greedy_exp = EpsilonGreedy(n_arms=n_arms,\n",
    "                                   epsilon=epsilon,\n",
    "                                   draw_count_list=draw_count_list,\n",
    "                                   conv_rate_list=conv_rate_list)\n"
   ]
  },
  {
   "cell_type": "code",
   "execution_count": 6,
   "metadata": {},
   "outputs": [
    {
     "name": "stdout",
     "output_type": "stream",
     "text": [
      "Iteration id :  10000\n",
      "Selection method : exploit\n",
      "For respective bandit arms :  2\n",
      "Number of times they are drawn :  [363, 348, 9289]\n",
      "Their conversion rates  :  [0.20110192837465565, 0.26724137931034525, 0.7009365916675638]\n"
     ]
    }
   ],
   "source": [
    "n_iteration = 10000\n",
    "\n",
    "\n",
    "for iteration in range(1,n_iteration+1):\n",
    "    print(\"Iteration id : \",iteration)\n",
    "\n",
    "    arm = epsilon_greedy_exp.select_arm()\n",
    "    reward = draw_arm(chosen_arm=arm,\n",
    "                      reward_prob_list=reward_prob_list)\n",
    "    draw_count_list, conv_rate_list = update_draw_count_and_conv_rate(draw_count_list=draw_count_list,\n",
    "                               conv_rate_list=conv_rate_list,\n",
    "                               chosen_arm=arm,\n",
    "                               reward=reward)\n",
    "    \n",
    "    epsilon_greedy_exp.draw_count_list = draw_count_list\n",
    "    epsilon_greedy_exp.conv_rate_list = conv_rate_list\n",
    "    \n",
    "    print(\"For respective bandit arms : \",arm)\n",
    "    print(\"Number of times they are drawn : \",epsilon_greedy_exp.draw_count_list)\n",
    "    print(\"Their conversion rates  : \",epsilon_greedy_exp.conv_rate_list)\n",
    "    import time\n",
    "#     time.sleep()\n",
    "    clear_output(wait=True)\n",
    "    "
   ]
  }
 ],
 "metadata": {
  "kernelspec": {
   "display_name": "pybandit-v3",
   "language": "python",
   "name": "pybandit-v3"
  },
  "language_info": {
   "codemirror_mode": {
    "name": "ipython",
    "version": 3
   },
   "file_extension": ".py",
   "mimetype": "text/x-python",
   "name": "python",
   "nbconvert_exporter": "python",
   "pygments_lexer": "ipython3",
   "version": "3.6.8"
  }
 },
 "nbformat": 4,
 "nbformat_minor": 4
}
